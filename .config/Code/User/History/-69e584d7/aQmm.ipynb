{
 "cells": [
  {
   "cell_type": "code",
   "execution_count": null,
   "metadata": {},
   "outputs": [],
   "source": []
  },
  {
   "cell_type": "code",
   "execution_count": 1,
   "metadata": {},
   "outputs": [],
   "source": [
    "# !pip install --upgrade pip\n",
    "# !pip install llama-index\n",
    "# !pip install llama-index-core llama-index-readers-file llama-index-llms-ollama llama-index-embeddings-huggingface\n",
    "# !pip install llama_index==0.9.24"
   ]
  },
  {
   "cell_type": "code",
   "execution_count": 2,
   "metadata": {},
   "outputs": [],
   "source": [
    "# from llama_index.llms.ollama import Ollama\n",
    "\n",
    "# llm = Ollama(model=\"llama2\", request_timeout=600) #base_url = 'http://localhost:11434',\n",
    "\n",
    "# response = llm.complete(\"Do you know about Claude-3?\") ## stream_complete() for streaming response\n",
    "\n",
    "# response\n",
    "# print(response.text)"
   ]
  },
  {
   "cell_type": "code",
   "execution_count": 3,
   "metadata": {},
   "outputs": [
    {
     "name": "stderr",
     "output_type": "stream",
     "text": [
      "/home/abhi/Documents/ChatBot/Llama2/my_env/lib/python3.12/site-packages/tqdm/auto.py:21: TqdmWarning: IProgress not found. Please update jupyter and ipywidgets. See https://ipywidgets.readthedocs.io/en/stable/user_install.html\n",
      "  from .autonotebook import tqdm as notebook_tqdm\n"
     ]
    }
   ],
   "source": [
    "# Importing required modules\n",
    "from pypdf import PdfReader\n",
    "from llama_index.core import VectorStoreIndex, Document\n",
    "from llama_index.embeddings.huggingface import HuggingFaceEmbedding\n",
    "from llama_index.core import Settings\n",
    "from llama_index.llms.ollama import Ollama\n",
    "# from llama_index import SimpleDirectoryReader\n",
    "\n",
    "# Creating a pdf reader object\n",
    "reader = PdfReader('faq.pdf')\n",
    "# reader = SimpleDirectoryReader(\"/home/abhi/Documents/ChatBot/Llama2/data\").load_data()\n",
    "\n",
    "# Extracting text from all pages\n",
    "all_text = \"\"\n",
    "for page in reader.pages:\n",
    "    all_text += page.extract_text() + \"\\n\"\n",
    "\n",
    "# Setting up the embedding model and LLM\n",
    "Settings.embed_model = HuggingFaceEmbedding(\n",
    "    model_name=\"BAAI/bge-small-en-v1.5\"\n",
    ")\n",
    "Settings.llm = Ollama(model=\"llama2\", request_timeout=600)\n",
    "\n",
    "# Creating a Document object\n",
    "doc = Document(text=all_text)\n",
    "\n",
    "# Creating the VectorStoreIndex\n",
    "index = VectorStoreIndex.from_documents([doc])"
   ]
  },
  {
   "cell_type": "code",
   "execution_count": null,
   "metadata": {},
   "outputs": [],
   "source": [
    "retriever = index.as_retriever(similarity_top_k=2)\n",
    "\n",
    "# Function to get response with LLM validation\n",
    "def get_validated_response(question):\n",
    "    # Retrieve relevant documents\n",
    "    retrieved_nodes = retriever.retrieve(question)\n",
    "    \n",
    "    # Prepare context for LLM\n",
    "    context = \"\\n\".join([node.text for node in retrieved_nodes])\n",
    "    \n",
    "    # Prepare prompt for LLM\n",
    "    prompt = f\"\"\"Given the following context and question, provide a accurate and concise answer. If the context doesn't contain enough information to answer the question confidently, state that clearly.\n",
    "\n",
    "Context:\n",
    "{context}\n",
    "\n",
    "Question: {question}\n",
    "\n",
    "Answer:\"\"\"\n",
    "\n",
    "    # Use LLM to generate a validated response\n",
    "    llm = Ollama(model=\"llama2\", request_timeout=600, temperature=0.1)\n",
    "    response = llm.complete(prompt)\n",
    "    \n",
    "    return response\n",
    "\n",
    "# Example usage\n",
    "# question = \"i am a farmar, how can i apply for this scheme??\"\n",
    "# response = get_validated_response(question)\n",
    "# print(response)"
   ]
  },
  {
   "cell_type": "code",
   "execution_count": null,
   "metadata": {},
   "outputs": [
    {
     "name": "stdout",
     "output_type": "stream",
     "text": [
      "The implementation period of PMAY-U 2.0 is from 2024 to 2029, and it aims to provide central assistance to 1 crore eligible families/beneficiaries through states/UTs/PLIs to construct, purchase or rent affordable houses in urban areas over a period of 5 years. The scheme will be implemented through Unified Web Portal/Management Information System (MIS) developed in the Scheme, which will have a real-time progress on key performance indicators, dashboards, and analytics to enable informed decision-making by program managers and policymakers.\n",
      "\n",
      "The eligibility criteria for seeking benefit under PMAY-U 2.0 are families belonging to EWS/LIG/MIG segments, living in urban areas, having no pucca house either in his/her name or in the name of any member of his/her family anywhere in the country. The houses sanctioned under PMAY-U which got curtailed by CSMC after 31.12.2023 due to any reason on the recommendation of States/UTs, houses will not be sanctioned in PMAY-U 2.0 to those beneficiaries.\n",
      "\n",
      "Beneficiaries may avail benefits in either PMAY-G or PMAY-U 2.0, depending on their jurisdiction. The MIS linkage between Department of Rural Development for PMAY(G) and MoHUA for PMAY(U) would be done to avoid duplication of beneficiaries. The final list may be checked before sending to CSMC.\n",
      "\n",
      "Applicants who have availed benefits from any housing scheme of Central Govt., State Govt., or Local Self Govt. in the last 20 years will not be eligible for the Interest Subsidy Scheme.\n",
      "\n",
      "A pucca house under PMAY-U 2.0 will mandatorily have basic facilities such as kitchen, toilet, electricity, and water connection. The areas covered under PMAY-U 2.0 include all statutory towns as per Census 2011 and towns notified subsequently, as well as Notified Planning Areas and areas within the jurisdiction of Industrial Development Authorities, Special Area Development Authorities, Urban Development Authorities, or any such Authority under State legislation entrusted with urban planning and regulation functions.\n",
      "\n",
      "The scheme guidelines mandate ownership of the house to be in the name of female head of the household or in joint ownership with the male member, which aims to promote women empowerment. The difference between Central Sector Scheme and Centrally Sponsored Scheme is that Central Sector Scheme are 100% funded by the Union government and implemented by the Central Government machinery, while in Centrally Sponsored Scheme (CSS) a certain percentage of the funding is borne by the States and the implementation is by the State Governments.\n",
      "\n",
      "The scheme will be monitored through Unified Web Portal/Management Information System (MIS), which will have a real-time progress on key performance indicators, dashboards, and analytics to enable informed decision-making by program managers and policymakers. The MIS will have the facility for beneficiaries to apply and track their application status on a real-time basis.\n",
      "\n",
      "Under the BLC vertical of PMAY-U 2.0, Beneficiary Led Construction (BLC) provides assistance to individual eligible families belonging to EWS category to construct new houses on their own available vacant land. The funding mechanism under BLC is as follows: North-Eastern Region States, Himachal Pradesh, Uttarakhand, and Union Territory (UT) of J&K, Puducherry, and Delhi - \u00002.25 Lakh; Min - \u00000.25 Lakh; All other UTs - \u00002.50 Lakh; Remaining States - \u00001.50 Lakh; Min - \u00001 Lakh. Central Assistance will be released directly through Direct Benefit Transfer (DBT) to the bank accounts of beneficiaries of BLC component in three instalments, identified in projects through States/UTs.\n",
      "\n",
      "To avail the benefits under BLC vertical, beneficiaries shall approach the ULBs/Implementing Agencies/Unified web portal with necessary documents, including proof of identity (Aadhaar card, PAN, voter ID, Passport etc.), proof of address (ration card, utility bills, etc.), income certificate, land ownership documents, and an affidavit stating the beneficiary does not own a pucca house. The norms for constructing a house under BLC vertical are the beneficiaries under this vertical may be allowed to construct the all-weather pucca house of 30-45 sqm. carpet area for EWS and should conform to the building safety and design standards provided in National Building Code (NBC).\n",
      "\n",
      "The basic facilities provided in a pucca house under BLC vertical are kitchen, toilet, electricity, and water connection. In case of landless beneficiaries, States/UTs at their expense may provision heritable, but non-transferable land rights (pattas) to the family, making them eligible under the BLC vertical.\n",
      "\n",
      "Slum dwellers can avail the benefits under BLC in case a tenable slum in any ULB has a requirement of pucca house. The State/UT Government can propose the projects/list of those eligible beneficiaries for sanctioning of Central Assistance under BLC vertical.\n"
     ]
    }
   ],
   "source": [
    "question = \"benefits of PMAY-U 2.0\"\n",
    "response = get_validated_response(question)\n",
    "print(response)"
   ]
  }
 ],
 "metadata": {
  "kernelspec": {
   "display_name": "v_env",
   "language": "python",
   "name": "python3"
  },
  "language_info": {
   "codemirror_mode": {
    "name": "ipython",
    "version": 3
   },
   "file_extension": ".py",
   "mimetype": "text/x-python",
   "name": "python",
   "nbconvert_exporter": "python",
   "pygments_lexer": "ipython3",
   "version": "3.12.4"
  }
 },
 "nbformat": 4,
 "nbformat_minor": 2
}
