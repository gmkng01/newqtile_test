{
 "cells": [
  {
   "cell_type": "code",
   "execution_count": 1,
   "metadata": {},
   "outputs": [],
   "source": [
    "# !pip install llama-index\n",
    "# !pip install llama-index-core llama-index-readers-file llama-index-llms-ollama llama-index-embeddings-huggingface"
   ]
  },
  {
   "cell_type": "code",
   "execution_count": 2,
   "metadata": {},
   "outputs": [],
   "source": [
    "# from llama_index.llms.ollama import Ollama\n",
    "\n",
    "# llm = Ollama(model=\"llama2\", request_timeout=600) #base_url = 'http://localhost:11434',\n",
    "\n",
    "# response = llm.complete(\"Do you know about Claude-3?\") ## stream_complete() for streaming response\n",
    "\n",
    "# response\n",
    "# print(response.text)"
   ]
  },
  {
   "cell_type": "code",
   "execution_count": 3,
   "metadata": {},
   "outputs": [
    {
     "name": "stderr",
     "output_type": "stream",
     "text": [
      "/home/abhi/Documents/ChatBot/Llama2/v_env/lib/python3.12/site-packages/tqdm/auto.py:21: TqdmWarning: IProgress not found. Please update jupyter and ipywidgets. See https://ipywidgets.readthedocs.io/en/stable/user_install.html\n",
      "  from .autonotebook import tqdm as notebook_tqdm\n"
     ]
    },
    {
     "ename": "ImportError",
     "evalue": "cannot import name 'SimpleDirectoryReader' from 'llama_index' (unknown location)",
     "output_type": "error",
     "traceback": [
      "\u001b[0;31m---------------------------------------------------------------------------\u001b[0m",
      "\u001b[0;31mImportError\u001b[0m                               Traceback (most recent call last)",
      "Cell \u001b[0;32mIn[3], line 7\u001b[0m\n\u001b[1;32m      5\u001b[0m \u001b[38;5;28;01mfrom\u001b[39;00m \u001b[38;5;21;01mllama_index\u001b[39;00m\u001b[38;5;21;01m.\u001b[39;00m\u001b[38;5;21;01mcore\u001b[39;00m \u001b[38;5;28;01mimport\u001b[39;00m Settings\n\u001b[1;32m      6\u001b[0m \u001b[38;5;28;01mfrom\u001b[39;00m \u001b[38;5;21;01mllama_index\u001b[39;00m\u001b[38;5;21;01m.\u001b[39;00m\u001b[38;5;21;01mllms\u001b[39;00m\u001b[38;5;21;01m.\u001b[39;00m\u001b[38;5;21;01mollama\u001b[39;00m \u001b[38;5;28;01mimport\u001b[39;00m Ollama\n\u001b[0;32m----> 7\u001b[0m \u001b[38;5;28;01mfrom\u001b[39;00m \u001b[38;5;21;01mllama_index\u001b[39;00m \u001b[38;5;28;01mimport\u001b[39;00m SimpleDirectoryReader\n\u001b[1;32m      9\u001b[0m \u001b[38;5;66;03m# Creating a pdf reader object\u001b[39;00m\n\u001b[1;32m     10\u001b[0m \u001b[38;5;66;03m# reader = PdfReader('faq.pdf')\u001b[39;00m\n\u001b[1;32m     11\u001b[0m reader \u001b[38;5;241m=\u001b[39m SimpleDirectoryReader(\u001b[38;5;124m\"\u001b[39m\u001b[38;5;124m/home/abhi/Documents/ChatBot/Llama2/data\u001b[39m\u001b[38;5;124m\"\u001b[39m)\u001b[38;5;241m.\u001b[39mload_data()\n",
      "\u001b[0;31mImportError\u001b[0m: cannot import name 'SimpleDirectoryReader' from 'llama_index' (unknown location)"
     ]
    }
   ],
   "source": [
    "# Importing required modules\n",
    "from pypdf import PdfReader\n",
    "from llama_index.core import VectorStoreIndex, Document\n",
    "from llama_index.embeddings.huggingface import HuggingFaceEmbedding\n",
    "from llama_index.core import Settings\n",
    "from llama_index.llms.ollama import Ollama\n",
    "from llama_index import SimpleDirectoryReader\n",
    "\n",
    "# Creating a pdf reader object\n",
    "# reader = PdfReader('faq.pdf')\n",
    "reader = SimpleDirectoryReader(\"/home/abhi/Documents/ChatBot/Llama2/data\").load_data()\n",
    "\n",
    "# Extracting text from all pages\n",
    "all_text = \"\"\n",
    "for page in reader.pages:\n",
    "    all_text += page.extract_text() + \"\\n\"\n",
    "\n",
    "# Setting up the embedding model and LLM\n",
    "Settings.embed_model = HuggingFaceEmbedding(\n",
    "    model_name=\"BAAI/bge-small-en-v1.5\"\n",
    ")\n",
    "Settings.llm = Ollama(model=\"llama2\", request_timeout=600)\n",
    "\n",
    "# Creating a Document object\n",
    "doc = Document(text=all_text)\n",
    "\n",
    "# Creating the VectorStoreIndex\n",
    "index = VectorStoreIndex.from_documents([doc])"
   ]
  },
  {
   "cell_type": "code",
   "execution_count": null,
   "metadata": {},
   "outputs": [],
   "source": [
    "retriever = index.as_retriever(similarity_top_k=2)\n",
    "\n",
    "# Function to get response with LLM validation\n",
    "def get_validated_response(question):\n",
    "    # Retrieve relevant documents\n",
    "    retrieved_nodes = retriever.retrieve(question)\n",
    "    \n",
    "    # Prepare context for LLM\n",
    "    context = \"\\n\".join([node.text for node in retrieved_nodes])\n",
    "    \n",
    "    # Prepare prompt for LLM\n",
    "    prompt = f\"\"\"Given the following context and question, provide a accurate and concise answer. If the context doesn't contain enough information to answer the question confidently, state that clearly.\n",
    "\n",
    "Context:\n",
    "{context}\n",
    "\n",
    "Question: {question}\n",
    "\n",
    "Answer:\"\"\"\n",
    "\n",
    "    # Use LLM to generate a validated response\n",
    "    llm = Ollama(model=\"llama2\", request_timeout=600, temperature=0.1)\n",
    "    response = llm.complete(prompt)\n",
    "    \n",
    "    return response\n",
    "\n",
    "# Example usage\n",
    "# question = \"i am a farmar, how can i apply for this scheme??\"\n",
    "# response = get_validated_response(question)\n",
    "# print(response)"
   ]
  },
  {
   "cell_type": "code",
   "execution_count": null,
   "metadata": {},
   "outputs": [
    {
     "name": "stdout",
     "output_type": "stream",
     "text": [
      "To apply for PMAY-U 2.0 as a farmer, you can follow these steps:\n",
      "\n",
      "1. Check your eligibility: Before applying for the scheme, make sure you meet the eligibility criteria defined by the government. You can check the eligibility criteria on the official website of PMAY-U 2.0 or by contacting your state government's urban development department.\n",
      "2. Register yourself: If you are eligible, register yourself on the online portal of PMAY-U 2.0. You can find the link to the portal on the official website of the scheme.\n",
      "3. Fill the application form: Once you have registered yourself, fill the application form with all the required details. Make sure you provide accurate information and attach the necessary documents, such as your Adhaar card, bank account details, and land ownership documents.\n",
      "4. Submit the application: After filling the application form, submit it online or through a Common Service Centre (CSC) near you.\n",
      "5. Wait for the selection: The government will review your application and select beneficiaries based on the criteria defined in the scheme. If you are selected, you will receive an intimation from the government with further instructions.\n",
      "\n",
      "Note: The application process and eligibility criteria may vary depending on the state or union territory you are residing in. It is best to check the official website of PMAY-U 2.0 or contact your state government's urban development department for more information.\n"
     ]
    }
   ],
   "source": [
    "question = \"i am a student, how can i apply for this scheme??\"\n",
    "response = get_validated_response(question)\n",
    "print(response)"
   ]
  }
 ],
 "metadata": {
  "kernelspec": {
   "display_name": "v_env",
   "language": "python",
   "name": "python3"
  },
  "language_info": {
   "codemirror_mode": {
    "name": "ipython",
    "version": 3
   },
   "file_extension": ".py",
   "mimetype": "text/x-python",
   "name": "python",
   "nbconvert_exporter": "python",
   "pygments_lexer": "ipython3",
   "version": "3.12.4"
  }
 },
 "nbformat": 4,
 "nbformat_minor": 2
}
