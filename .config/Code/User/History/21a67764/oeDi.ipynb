{
 "cells": [
  {
   "cell_type": "code",
   "execution_count": null,
   "metadata": {},
   "outputs": [],
   "source": [
    "!pip install chatterbot\n",
    "!pip install chatterbot_corpus"
   ]
  },
  {
   "cell_type": "code",
   "execution_count": null,
   "metadata": {},
   "outputs": [],
   "source": [
    "from chatterbot import ChatBot\n",
    "from chatterbot.trainers import ListTrainer\n",
    "\n",
    "# Create a new chatbot instance\n",
    "chatbot = ChatBot('FileTrainedBot')\n",
    "\n",
    "# Create a new trainer for the chatbot\n",
    "trainer = ListTrainer(chatbot)\n",
    "\n",
    "# Open the text file and read the data\n",
    "with open('conversation_data.txt', 'r') as file:\n",
    "    lines = file.readlines()\n",
    "\n",
    "# Train the chatbot with the data from the text file\n",
    "trainer.train(lines)\n",
    "\n",
    "# Test the chatbot\n",
    "response = chatbot.get_response('What should I do if I forgot my password?')\n",
    "print(response)"
   ]
  }
 ],
 "metadata": {
  "language_info": {
   "name": "python"
  }
 },
 "nbformat": 4,
 "nbformat_minor": 2
}
