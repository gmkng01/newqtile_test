{
  "cells": [
    {
      "cell_type": "markdown",
      "metadata": {},
      "source": [
        "## ChatGPT"
      ]
    },
    {
      "cell_type": "code",
      "execution_count": 1,
      "metadata": {
        "id": "GrUITM90Turr"
      },
      "outputs": [],
      "source": [
        "# !pip install colorthief"
      ]
    },
    {
      "cell_type": "code",
      "execution_count": 2,
      "metadata": {
        "id": "AvZYkG32Tuo3"
      },
      "outputs": [],
      "source": [
        "# !pip install matplotlib"
      ]
    },
    {
      "cell_type": "code",
      "execution_count": 2,
      "metadata": {
        "id": "vC1qMr_QTul7"
      },
      "outputs": [
        {
          "name": "stdout",
          "output_type": "stream",
          "text": [
            "#263A50\n",
            "#CBCCC7\n",
            "#6B7E92\n",
            "#91A5AF\n",
            "#7D96B7\n"
          ]
        }
      ],
      "source": [
        "from colorthief import ColorThief\n",
        "import colorsys\n",
        "\n",
        "\n",
        "\n",
        "ct=ColorThief(\"/home/abhi/Pictures/wall/6t1nxe07dm0d1.png\")\n",
        "palette=ct.get_palette(color_count=5)\n",
        "for color in palette:\n",
        "    # print(color)\n",
        "    print(f\"#{color[0]:02X}{color[1]:02X}{color[2]:02X}\")"
      ]
    },
    {
      "cell_type": "code",
      "execution_count": 3,
      "metadata": {
        "id": "42R_-AzIYTKQ"
      },
      "outputs": [
        {
          "name": "stdout",
          "output_type": "stream",
          "text": [
            "Extracted Text:\n",
            "/home/abhi/Pictures/wall/s40p2i44hu0d1.jpeg\n"
          ]
        }
      ],
      "source": [
        "import re\n",
        "\n",
        "def extract_text(filename):\n",
        "\n",
        "  try:\n",
        "    with open(filename, 'r') as file:\n",
        "      text = file.read()\n",
        "  except FileNotFoundError:\n",
        "    print(f\"Error: File '{filename}' not found.\")\n",
        "    return \"\"\n",
        "  except PermissionError:\n",
        "    print(f\"Error: Permission denied while accessing '{filename}'.\")\n",
        "    return \"\"\n",
        "  else:\n",
        "    match = re.search(r\"/home.*\", text, re.MULTILINE)  # Multiline search\n",
        "    if match:\n",
        "      return match.group()\n",
        "    else:\n",
        "      return \"\"\n",
        "\n",
        "# Example usage\n",
        "extracted_text = extract_text(\"bg-saved.cfg\")\n",
        "\n",
        "if extracted_text:\n",
        "  print(\"Extracted Text:\")\n",
        "  print(extracted_text)\n",
        "else:\n",
        "  print(\"No line starting with 'file' found.\")\n"
      ]
    },
    {
      "cell_type": "code",
      "execution_count": null,
      "metadata": {},
      "outputs": [],
      "source": [
        "from colorthief import ColorThief\n",
        "import colorsys\n",
        "import re, os\n",
        "\n",
        "home = os.path.expanduser('~')\n",
        "\n",
        "def extract_text(filename):\n",
        "    with open(filename, 'r') as file:\n",
        "       text = file.read()\n",
        "\n",
        "    match = re.search(r\"/home.*\", text, re.MULTILINE)  # Multiline search\n",
        "    if match:\n",
        "      return match.group()\n",
        "    else:\n",
        "      return \"\"\n",
        "\n",
        "# Example usage\n",
        "wall_path = extract_text(f\"{home}/.config/nitrogen/bg-saved.cfg\")\n",
        "\n",
        "ct=ColorThief(wall_path)\n",
        "palette = ct.get_palette(color_count=5)\n",
        "\n",
        "# Create variables for each hex code\n",
        "color1 = f\"#{palette[0][0]:02X}{palette[0][1]:02X}{palette[0][2]:02X}\"\n",
        "color2 = f\"#{palette[1][0]:02X}{palette[1][1]:02X}{palette[1][2]:02X}\"\n",
        "color3 = f\"#{palette[2][0]:02X}{palette[2][1]:02X}{palette[2][2]:02X}\"\n",
        "color4 = f\"#{palette[3][0]:02X}{palette[3][1]:02X}{palette[3][2]:02X}\"\n",
        "color5 = f\"#{palette[4][0]:02X}{palette[4][1]:02X}{palette[4][2]:02X}\"\n",
        "\n",
        "print(\"Color 1:\", color1)\n",
        "print(\"Color 2:\", color2)\n",
        "print(\"Color 3:\", color3)\n",
        "print(\"Color 4:\", color4)\n",
        "print(\"Color 5:\", color5)"
      ]
    }
  ],
  "metadata": {
    "colab": {
      "private_outputs": true,
      "provenance": []
    },
    "kernelspec": {
      "display_name": "Python 3",
      "name": "python3"
    },
    "language_info": {
      "codemirror_mode": {
        "name": "ipython",
        "version": 3
      },
      "file_extension": ".py",
      "mimetype": "text/x-python",
      "name": "python",
      "nbconvert_exporter": "python",
      "pygments_lexer": "ipython3",
      "version": "3.12.3"
    }
  },
  "nbformat": 4,
  "nbformat_minor": 0
}
