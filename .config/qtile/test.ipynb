{
 "cells": [
  {
   "cell_type": "code",
   "execution_count": 2,
   "metadata": {},
   "outputs": [],
   "source": [
    "# # import random\n",
    "# import colors\n",
    "\n",
    "# # def random_color():\n",
    "# #     color_list = [colors.black, colors.darks]\n",
    "# #     return random.choice(color_list)\n",
    "\n",
    "# # random_color()\n"
   ]
  },
  {
   "cell_type": "code",
   "execution_count": 5,
   "metadata": {},
   "outputs": [],
   "source": [
    "# color_options = [colors.black, colors.darks]\n",
    "\n",
    "\n",
    "\n",
    "# co = color_options[0]\n",
    "\n",
    "# def cycle_colors(self):  # Accept the `self` argument\n",
    "#     global co\n",
    "#     index = color_options.index(co)\n",
    "#     next_index = (index + 1) % len(color_options)\n",
    "#     co = color_options[next_index]\n",
    "#     print(co)\n",
    "#     # qtile.reload_config()\n",
    "# co"
   ]
  },
  {
   "cell_type": "code",
   "execution_count": 4,
   "metadata": {},
   "outputs": [
    {
     "name": "stdout",
     "output_type": "stream",
     "text": [
      "EEKSFORGEEKS\n"
     ]
    }
   ],
   "source": [
    "\n",
    "# # Python program to demonstrate\n",
    "# # string slicing\n",
    " \n",
    "# # String slicing\n",
    "# String = 'GEEKSFORGEEKS'\n",
    " \n",
    "# # Prints string in reverse\n",
    "# print(String[1::])\n"
   ]
  },
  {
   "cell_type": "code",
   "execution_count": null,
   "metadata": {},
   "outputs": [],
   "source": [
    "# from libqtile.config import Screen, bar, widget\n",
    "# from libqtile.lazy import lazy\n",
    "# import subprocess\n",
    "\n",
    "# def get_battery_info():\n",
    "#     \"\"\"\n",
    "#     Retrieves battery information using acpi (preferred) or upower.\n",
    "\n",
    "#     Returns:\n",
    "#         A tuple containing:\n",
    "#             - battery percentage (int)\n",
    "#             - charging state (str, \"Charging\" or \"Discharging\")\n",
    "#             - time remaining (str, estimated time or \"Unknown\")\n",
    "#     \"\"\"\n",
    "\n",
    "#     try:\n",
    "#         # Use acpi for faster and more reliable information\n",
    "#         output = subprocess.check_output([\"acpi\", \"-b\"]).decode(\"utf-8\")\n",
    "#         percentage = int(output.split(\", \")[1].split(\"%\")[0])\n",
    "#         charging_state = \"Charging\" if \"Charging\" in output else \"Discharging\"\n",
    "#         time_remaining = None  # acpi doesn't provide time remaining\n",
    "#     except subprocess.CalledProcessError:\n",
    "#         # Fallback to upower if acpi is unavailable\n",
    "#         try:\n",
    "#             output = subprocess.check_output([\"upower\", \"-i\", \"/org/freedesktop/UPower/devices/battery\"]).decode(\"utf-8\")\n",
    "#             for line in output.splitlines():\n",
    "#                 if \"percentage\" in line:\n",
    "#                     percentage = int(line.split(\":\")[1].split(\"%\")[0])\n",
    "#                 elif \"state\" in line:\n",
    "#                     charging_state = line.split(\":\")[1].strip()\n",
    "#                 elif \"time to empty\" in line:\n",
    "#                     time_remaining = line.split(\":\")[1].strip()\n",
    "#         except (subprocess.CalledProcessError, IndexError):\n",
    "#             percentage = 0\n",
    "#             charging_state = \"Unknown\"\n",
    "#             time_remaining = \"Unknown\"\n",
    "\n",
    "#     return percentage, charging_state, time_remaining\n",
    "\n",
    "# def battery_text(percentage, charging_state, time_remaining):\n",
    "#     \"\"\"\n",
    "#     Formats battery information into a human-readable string.\n",
    "\n",
    "#     Args:\n",
    "#         percentage (int): Battery percentage\n",
    "#         charging_state (str): Charging state (\"Charging\" or \"Discharging\")\n",
    "#         time_remaining (str): Estimated time remaining or \"Unknown\"\n",
    "\n",
    "#     Returns:\n",
    "#         str: Formatted battery information string\n",
    "#     \"\"\"\n",
    "\n",
    "#     if time_remaining is None:\n",
    "#         return f\"{percentage}% {charging_state}\"\n",
    "#     else:\n",
    "#         return f\"{percentage}% {charging_state} ({time_remaining})\"\n",
    "\n",
    "# def update_bar(widgets):\n",
    "#     \"\"\"\n",
    "#     Updates the battery widget with fresh information.\n",
    "\n",
    "#     Args:\n",
    "#         widgets (list): List of bar widgets\n",
    "#     \"\"\"\n",
    "\n",
    "#     percentage, charging_state, time_remaining = get_battery_info()\n",
    "#     battery_widget = next(widget for widget in widgets if widget.name == \"battery\")\n",
    "#     battery_widget.text = battery_text(percentage, charging_state, time_remaining)\n",
    "\n",
    "\n"
   ]
  },
  {
   "cell_type": "code",
   "execution_count": null,
   "metadata": {},
   "outputs": [],
   "source": [
    "# # Configure your Qtile bar\n",
    "# screens = [\n",
    "#     Screen(\n",
    "#         top=bar.Bar(\n",
    "#             [\n",
    "#                 widget.Spacer(margin=5),\n",
    "#                 widget.Sep(linewidth=2, foreground=\"000000\"),\n",
    "#                 widget.Battery(name=\"battery\", update_interval=300, format=update_bar),\n",
    "#                 widget.Sep(linewidth=2, foreground=\"000000\"),\n",
    "#                 widget.Spacer(margin=5),\n",
    "#             ],\n",
    "#             size=24,\n",
    "#         ),\n",
    "#     ),\n",
    "# ]"
   ]
  },
  {
   "cell_type": "code",
   "execution_count": null,
   "metadata": {},
   "outputs": [],
   "source": [
    "# My_s3Lf_7!Ng_V@g3T@"
   ]
  },
  {
   "cell_type": "code",
   "execution_count": null,
   "metadata": {},
   "outputs": [],
   "source": [
    "# One or more I2C/SMBus interfaces failed to initialize.\n",
    "# RGB DRAM modules and some motherboards' onboard RGB lighting will not be available without I2C/SMBus.\n",
    "# On Linux, this is usually because the i2c-dev module is not loaded. You must load the i2c-dev module along with the correct i2c driver for your motherboard. This is usually i2c-piix4 for AMD systems and i2c-i801 for Intel systems."
   ]
  },
  {
   "cell_type": "code",
   "execution_count": null,
   "metadata": {},
   "outputs": [],
   "source": []
  }
 ],
 "metadata": {
  "kernelspec": {
   "display_name": "Python 3",
   "language": "python",
   "name": "python3"
  },
  "language_info": {
   "codemirror_mode": {
    "name": "ipython",
    "version": 3
   },
   "file_extension": ".py",
   "mimetype": "text/x-python",
   "name": "python",
   "nbconvert_exporter": "python",
   "pygments_lexer": "ipython3",
   "version": "3.11.7"
  }
 },
 "nbformat": 4,
 "nbformat_minor": 2
}
